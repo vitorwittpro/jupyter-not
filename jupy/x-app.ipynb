{
 "cells": [
  {
   "cell_type": "markdown",
   "id": "34a29845-44b6-4262-b47e-85b5ae1f6312",
   "metadata": {},
   "source": [
    "# **This is my X App**\n",
    "\n",
    "![X image](https://cdn.iconscout.com/icon/free/png-256/free-twitter-x-9581782-7740647.png?f=webp)\n"
   ]
  },
  {
   "cell_type": "code",
   "execution_count": 2,
   "id": "098eaf6c-f8f5-47ef-9659-c2c7422010a6",
   "metadata": {},
   "outputs": [
    {
     "name": "stdout",
     "output_type": "stream",
     "text": [
      "Enter your name sir: \n"
     ]
    },
    {
     "name": "stdin",
     "output_type": "stream",
     "text": [
      " Vitor\n"
     ]
    }
   ],
   "source": [
    "print(\"Enter your name sir: \")\n",
    "name = input()\n"
   ]
  },
  {
   "cell_type": "code",
   "execution_count": 4,
   "id": "baab8017-6ee8-45b8-ba31-150a77c238cb",
   "metadata": {
    "editable": true,
    "slideshow": {
     "slide_type": ""
    },
    "tags": []
   },
   "outputs": [
    {
     "name": "stdout",
     "output_type": "stream",
     "text": [
      "Hello! {'Vitor'}\n"
     ]
    }
   ],
   "source": [
    "print(\"Hello!\", {name})"
   ]
  },
  {
   "cell_type": "code",
   "execution_count": 5,
   "id": "741fc166-18f4-4dff-b756-923db84e93db",
   "metadata": {},
   "outputs": [
    {
     "name": "stdout",
     "output_type": "stream",
     "text": [
      "Enter your tweet (-1 to exit): \n"
     ]
    },
    {
     "name": "stdin",
     "output_type": "stream",
     "text": [
      " first 1\n"
     ]
    },
    {
     "name": "stdout",
     "output_type": "stream",
     "text": [
      "Enter your tweet (-1 to exit): \n"
     ]
    },
    {
     "name": "stdin",
     "output_type": "stream",
     "text": [
      " seecond 2\n"
     ]
    },
    {
     "name": "stdout",
     "output_type": "stream",
     "text": [
      "Enter your tweet (-1 to exit): \n"
     ]
    },
    {
     "name": "stdin",
     "output_type": "stream",
     "text": [
      " third 3\n"
     ]
    },
    {
     "name": "stdout",
     "output_type": "stream",
     "text": [
      "Enter your tweet (-1 to exit): \n"
     ]
    },
    {
     "name": "stdin",
     "output_type": "stream",
     "text": [
      " putonhua\n"
     ]
    },
    {
     "name": "stdout",
     "output_type": "stream",
     "text": [
      "Enter your tweet (-1 to exit): \n"
     ]
    },
    {
     "name": "stdin",
     "output_type": "stream",
     "text": [
      " -1\n"
     ]
    }
   ],
   "source": [
    "tweets = ['index', 'tweet']\n",
    "index_counter = 1\n",
    "while True:\n",
    "    print(\"Enter your tweet (-1 to exit): \")\n",
    "    tweet = input()\n",
    "\n",
    "    if tweet == \"-1\":\n",
    "        break\n",
    "    \n",
    "    indexed = [index_counter, tweet]\n",
    "    \n",
    "    tweets.append(indexed)\n",
    "\n",
    "    index_counter += 1\n",
    "\n",
    "    "
   ]
  },
  {
   "cell_type": "code",
   "execution_count": 6,
   "id": "f4a2fe17-1e6a-47d0-ba03-f7020fe8478b",
   "metadata": {},
   "outputs": [
    {
     "name": "stdout",
     "output_type": "stream",
     "text": [
      "index\n",
      "tweet\n",
      "[1, 'first 1']\n",
      "[2, 'seecond 2']\n",
      "[3, 'third 3']\n",
      "[4, 'putonhua']\n"
     ]
    }
   ],
   "source": [
    "for tweet in tweets:\n",
    "    print(tweet)"
   ]
  },
  {
   "cell_type": "code",
   "execution_count": 8,
   "id": "3ae25760-5c74-4eba-afbd-48be3d9b791e",
   "metadata": {},
   "outputs": [
    {
     "name": "stdout",
     "output_type": "stream",
     "text": [
      "Collecting tabulate\n",
      "  Downloading tabulate-0.9.0-py3-none-any.whl.metadata (34 kB)\n",
      "Downloading tabulate-0.9.0-py3-none-any.whl (35 kB)\n",
      "Installing collected packages: tabulate\n",
      "Successfully installed tabulate-0.9.0\n"
     ]
    }
   ],
   "source": [
    "!pip install tabulate"
   ]
  },
  {
   "cell_type": "code",
   "execution_count": 9,
   "id": "933acacf-2234-4ddb-aad3-a57931b603ca",
   "metadata": {},
   "outputs": [
    {
     "data": {
      "text/html": [
       "<table>\n",
       "<tbody>\n",
       "<tr><td>i</td><td>n        </td><td>d</td><td>e</td><td>x</td></tr>\n",
       "<tr><td>t</td><td>w        </td><td>e</td><td>e</td><td>t</td></tr>\n",
       "<tr><td>1</td><td>first 1  </td><td> </td><td> </td><td> </td></tr>\n",
       "<tr><td>2</td><td>seecond 2</td><td> </td><td> </td><td> </td></tr>\n",
       "<tr><td>3</td><td>third 3  </td><td> </td><td> </td><td> </td></tr>\n",
       "<tr><td>4</td><td>putonhua </td><td> </td><td> </td><td> </td></tr>\n",
       "</tbody>\n",
       "</table>"
      ],
      "text/plain": [
       "<IPython.core.display.HTML object>"
      ]
     },
     "metadata": {},
     "output_type": "display_data"
    }
   ],
   "source": [
    "from IPython.display import HTML, display\n",
    "import tabulate\n",
    "\n",
    "display(HTML( tabulate.tabulate(tweets, tablefmt=\"html\") ))\n"
   ]
  },
  {
   "cell_type": "code",
   "execution_count": null,
   "id": "0dfe2403-8db3-47be-be1e-b43a263605cb",
   "metadata": {},
   "outputs": [],
   "source": []
  },
  {
   "cell_type": "code",
   "execution_count": null,
   "id": "897a0846-2118-4af0-af00-f3fb7788f6bb",
   "metadata": {},
   "outputs": [],
   "source": []
  }
 ],
 "metadata": {
  "kernelspec": {
   "display_name": "Python 3 (ipykernel)",
   "language": "python",
   "name": "python3"
  },
  "language_info": {
   "codemirror_mode": {
    "name": "ipython",
    "version": 3
   },
   "file_extension": ".py",
   "mimetype": "text/x-python",
   "name": "python",
   "nbconvert_exporter": "python",
   "pygments_lexer": "ipython3",
   "version": "3.12.2"
  }
 },
 "nbformat": 4,
 "nbformat_minor": 5
}
